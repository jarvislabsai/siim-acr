{
 "cells": [
  {
   "cell_type": "markdown",
   "id": "sporting-reservoir",
   "metadata": {},
   "source": [
    "## Getting Started\n",
    "\n",
    "- Kaggle Competition - [siim-acr-pneumothorax-segmentation](https://www.kaggle.com/c/siim-acr-pneumothorax-segmentation/overview)\n",
    "- Download Data \n",
    "- Create a Pytorch Dataset and Dataloader.\n"
   ]
  },
  {
   "cell_type": "markdown",
   "id": "rapid-check",
   "metadata": {},
   "source": [
    "### Prepare data\n",
    "\n",
    "1. Download Data\n",
    "2. Extract Data\n"
   ]
  },
  {
   "cell_type": "code",
   "execution_count": 1,
   "id": "greek-string",
   "metadata": {},
   "outputs": [
    {
     "name": "stdout",
     "output_type": "stream",
     "text": [
      "Downloading siim-train-test.zip to /home/siim-acr\n",
      "100%|█████████████████████████████████████▉| 1.91G/1.92G [01:55<00:00, 26.2MB/s]\n",
      "100%|██████████████████████████████████████| 1.92G/1.92G [01:55<00:00, 17.9MB/s]\n"
     ]
    }
   ],
   "source": [
    "!kaggle datasets download -d seesee/siim-train-test"
   ]
  },
  {
   "cell_type": "code",
   "execution_count": 4,
   "id": "short-separate",
   "metadata": {},
   "outputs": [],
   "source": [
    "!unzip -q siim-train-test.zip"
   ]
  },
  {
   "cell_type": "code",
   "execution_count": 6,
   "id": "touched-democracy",
   "metadata": {},
   "outputs": [
    {
     "name": "stdout",
     "output_type": "stream",
     "text": [
      "\u001b[0m\u001b[01;34mdicom-images-test\u001b[0m/  \u001b[01;34mdicom-images-train\u001b[0m/  train-rle.csv\n"
     ]
    }
   ],
   "source": [
    "ls siim/"
   ]
  },
  {
   "cell_type": "code",
   "execution_count": 12,
   "id": "concrete-leonard",
   "metadata": {},
   "outputs": [],
   "source": [
    "from pathlib import Path\n",
    "import pandas as pd"
   ]
  },
  {
   "cell_type": "code",
   "execution_count": 8,
   "id": "weird-disco",
   "metadata": {},
   "outputs": [],
   "source": [
    "data_path = Path('siim/')"
   ]
  },
  {
   "cell_type": "code",
   "execution_count": 11,
   "id": "proud-stations",
   "metadata": {},
   "outputs": [
    {
     "name": "stdout",
     "output_type": "stream",
     "text": [
      "[PosixPath('siim/dicom-images-test'), PosixPath('siim/dicom-images-train'), PosixPath('siim/train-rle.csv')]\n"
     ]
    }
   ],
   "source": [
    "print([o for o in data_path.iterdir()])"
   ]
  },
  {
   "cell_type": "code",
   "execution_count": 13,
   "id": "sufficient-praise",
   "metadata": {},
   "outputs": [],
   "source": [
    "train_meta = pd.read_csv(data_path/'train-rle.csv')"
   ]
  },
  {
   "cell_type": "code",
   "execution_count": 15,
   "id": "entertaining-ottawa",
   "metadata": {},
   "outputs": [
    {
     "data": {
      "text/html": [
       "<div>\n",
       "<style scoped>\n",
       "    .dataframe tbody tr th:only-of-type {\n",
       "        vertical-align: middle;\n",
       "    }\n",
       "\n",
       "    .dataframe tbody tr th {\n",
       "        vertical-align: top;\n",
       "    }\n",
       "\n",
       "    .dataframe thead th {\n",
       "        text-align: right;\n",
       "    }\n",
       "</style>\n",
       "<table border=\"1\" class=\"dataframe\">\n",
       "  <thead>\n",
       "    <tr style=\"text-align: right;\">\n",
       "      <th></th>\n",
       "      <th>ImageId</th>\n",
       "      <th>EncodedPixels</th>\n",
       "    </tr>\n",
       "  </thead>\n",
       "  <tbody>\n",
       "    <tr>\n",
       "      <th>0</th>\n",
       "      <td>1.2.276.0.7230010.3.1.4.8323329.6904.151787520...</td>\n",
       "      <td>-1</td>\n",
       "    </tr>\n",
       "    <tr>\n",
       "      <th>1</th>\n",
       "      <td>1.2.276.0.7230010.3.1.4.8323329.13666.15178752...</td>\n",
       "      <td>557374 2 1015 8 1009 14 1002 20 997 26 990 32 ...</td>\n",
       "    </tr>\n",
       "    <tr>\n",
       "      <th>2</th>\n",
       "      <td>1.2.276.0.7230010.3.1.4.8323329.11028.15178752...</td>\n",
       "      <td>-1</td>\n",
       "    </tr>\n",
       "    <tr>\n",
       "      <th>3</th>\n",
       "      <td>1.2.276.0.7230010.3.1.4.8323329.10366.15178752...</td>\n",
       "      <td>514175 10 1008 29 994 30 993 32 991 33 990 34 ...</td>\n",
       "    </tr>\n",
       "    <tr>\n",
       "      <th>4</th>\n",
       "      <td>1.2.276.0.7230010.3.1.4.8323329.10016.15178752...</td>\n",
       "      <td>592184 33 976 58 956 73 941 88 926 102 917 109...</td>\n",
       "    </tr>\n",
       "  </tbody>\n",
       "</table>\n",
       "</div>"
      ],
      "text/plain": [
       "                                             ImageId  \\\n",
       "0  1.2.276.0.7230010.3.1.4.8323329.6904.151787520...   \n",
       "1  1.2.276.0.7230010.3.1.4.8323329.13666.15178752...   \n",
       "2  1.2.276.0.7230010.3.1.4.8323329.11028.15178752...   \n",
       "3  1.2.276.0.7230010.3.1.4.8323329.10366.15178752...   \n",
       "4  1.2.276.0.7230010.3.1.4.8323329.10016.15178752...   \n",
       "\n",
       "                                       EncodedPixels  \n",
       "0                                                 -1  \n",
       "1  557374 2 1015 8 1009 14 1002 20 997 26 990 32 ...  \n",
       "2                                                 -1  \n",
       "3  514175 10 1008 29 994 30 993 32 991 33 990 34 ...  \n",
       "4  592184 33 976 58 956 73 941 88 926 102 917 109...  "
      ]
     },
     "execution_count": 15,
     "metadata": {},
     "output_type": "execute_result"
    }
   ],
   "source": [
    "train_meta.head()"
   ]
  },
  {
   "cell_type": "code",
   "execution_count": null,
   "id": "acting-level",
   "metadata": {},
   "outputs": [],
   "source": []
  }
 ],
 "metadata": {
  "kernelspec": {
   "display_name": "Python 3",
   "language": "python",
   "name": "python3"
  },
  "language_info": {
   "codemirror_mode": {
    "name": "ipython",
    "version": 3
   },
   "file_extension": ".py",
   "mimetype": "text/x-python",
   "name": "python",
   "nbconvert_exporter": "python",
   "pygments_lexer": "ipython3",
   "version": "3.6.10"
  }
 },
 "nbformat": 4,
 "nbformat_minor": 5
}
