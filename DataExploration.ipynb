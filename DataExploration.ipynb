{
 "cells": [
  {
   "cell_type": "markdown",
   "id": "demographic-theory",
   "metadata": {},
   "source": [
    "## Getting Started\n",
    "\n",
    "- Kaggle Competition - [siim-acr-pneumothorax-segmentation](https://www.kaggle.com/c/siim-acr-pneumothorax-segmentation/overview)\n",
    "- Download Data \n",
    "- Create a Pytorch Dataset and Dataloader.\n"
   ]
  },
  {
   "cell_type": "markdown",
   "id": "representative-monday",
   "metadata": {},
   "source": [
    "### Prepare data\n",
    "\n",
    "1. Download Data\n",
    "2. Extract Data\n"
   ]
  },
  {
   "cell_type": "code",
   "execution_count": 1,
   "id": "demanding-premiere",
   "metadata": {},
   "outputs": [
    {
     "name": "stdout",
     "output_type": "stream",
     "text": [
      "Downloading siim-train-test.zip to /home/siim-acr\n",
      "100%|██████████████████████████████████████| 1.92G/1.92G [02:15<00:00, 24.3MB/s]\n",
      "100%|██████████████████████████████████████| 1.92G/1.92G [02:15<00:00, 15.2MB/s]\n"
     ]
    }
   ],
   "source": [
    "!kaggle datasets download -d seesee/siim-train-test"
   ]
  },
  {
   "cell_type": "code",
   "execution_count": 2,
   "id": "fossil-compatibility",
   "metadata": {},
   "outputs": [],
   "source": [
    "!unzip -q siim-train-test.zip"
   ]
  },
  {
   "cell_type": "code",
   "execution_count": 3,
   "id": "written-schema",
   "metadata": {},
   "outputs": [
    {
     "name": "stdout",
     "output_type": "stream",
     "text": [
      "\u001b[0m\u001b[01;34mdicom-images-test\u001b[0m/  \u001b[01;34mdicom-images-train\u001b[0m/  train-rle.csv\n"
     ]
    }
   ],
   "source": [
    "ls siim/"
   ]
  },
  {
   "cell_type": "code",
   "execution_count": 1,
   "id": "described-stream",
   "metadata": {},
   "outputs": [],
   "source": [
    "from fastai.vision.all import *\n",
    "from seg_utils import run_length_decode\n",
    "import pydicom"
   ]
  },
  {
   "cell_type": "code",
   "execution_count": 2,
   "id": "sustainable-substance",
   "metadata": {},
   "outputs": [],
   "source": [
    "data_path = Path('siim/')"
   ]
  },
  {
   "cell_type": "code",
   "execution_count": 3,
   "id": "dramatic-attachment",
   "metadata": {},
   "outputs": [
    {
     "data": {
      "text/plain": [
       "(#4) [Path('siim/dicom-images-test'),Path('siim/dicom-images-train'),Path('siim/train-rle.csv'),Path('siim/train')]"
      ]
     },
     "execution_count": 3,
     "metadata": {},
     "output_type": "execute_result"
    }
   ],
   "source": [
    "data_path.ls()"
   ]
  },
  {
   "cell_type": "code",
   "execution_count": 4,
   "id": "coordinated-sessions",
   "metadata": {},
   "outputs": [],
   "source": [
    "train_meta = pd.read_csv(data_path/'train-rle.csv')\n",
    "train_meta.columns = [o.strip() for o in train_meta.columns]"
   ]
  },
  {
   "cell_type": "code",
   "execution_count": 5,
   "id": "simplified-cable",
   "metadata": {},
   "outputs": [
    {
     "data": {
      "text/html": [
       "<div>\n",
       "<style scoped>\n",
       "    .dataframe tbody tr th:only-of-type {\n",
       "        vertical-align: middle;\n",
       "    }\n",
       "\n",
       "    .dataframe tbody tr th {\n",
       "        vertical-align: top;\n",
       "    }\n",
       "\n",
       "    .dataframe thead th {\n",
       "        text-align: right;\n",
       "    }\n",
       "</style>\n",
       "<table border=\"1\" class=\"dataframe\">\n",
       "  <thead>\n",
       "    <tr style=\"text-align: right;\">\n",
       "      <th></th>\n",
       "      <th>ImageId</th>\n",
       "      <th>EncodedPixels</th>\n",
       "    </tr>\n",
       "  </thead>\n",
       "  <tbody>\n",
       "    <tr>\n",
       "      <th>0</th>\n",
       "      <td>1.2.276.0.7230010.3.1.4.8323329.6904.1517875201.850819</td>\n",
       "      <td>-1</td>\n",
       "    </tr>\n",
       "    <tr>\n",
       "      <th>1</th>\n",
       "      <td>1.2.276.0.7230010.3.1.4.8323329.13666.1517875247.117800</td>\n",
       "      <td>557374 2 1015 8 1009 14 1002 20 997 26 990 32 985 38 980 42 981 42 979 43 978 45 976 47 964 59 956 66 925 98 922 101 917 106 916 106 916 107 914 109 909 113 907 116 904 118 903 120 902 120 902 121 900 122 899 124 898 124 898 125 897 125 898 125 896 126 895 127 895 128 895 128 895 128 894 128 895 128 895 128 895 128 895 128 895 128 894 130 893 130 893 130 893 130 893 129 894 129 894 129 894 129 895 127 897 126 898 126 898 125 898 126 898 125 899 125 899 125 899 124 900 124 900 125 899 125 899 125 899 125 899 126 898 127 897 128 897 128 896 129 895 130 894 132 892 133 891 134 890 136 888 137...</td>\n",
       "    </tr>\n",
       "  </tbody>\n",
       "</table>\n",
       "</div>"
      ],
      "text/plain": [
       "                                                   ImageId  \\\n",
       "0   1.2.276.0.7230010.3.1.4.8323329.6904.1517875201.850819   \n",
       "1  1.2.276.0.7230010.3.1.4.8323329.13666.1517875247.117800   \n",
       "\n",
       "                                                                                                                                                                                                                                                                                                                                                                                                                                                                                                                                                                                                             EncodedPixels  \n",
       "0                                                                                                                                                                                                                                                                                                                                                                                                                                                                                                                                                                                                                       -1  \n",
       "1  557374 2 1015 8 1009 14 1002 20 997 26 990 32 985 38 980 42 981 42 979 43 978 45 976 47 964 59 956 66 925 98 922 101 917 106 916 106 916 107 914 109 909 113 907 116 904 118 903 120 902 120 902 121 900 122 899 124 898 124 898 125 897 125 898 125 896 126 895 127 895 128 895 128 895 128 894 128 895 128 895 128 895 128 895 128 895 128 894 130 893 130 893 130 893 130 893 129 894 129 894 129 894 129 895 127 897 126 898 126 898 125 898 126 898 125 899 125 899 125 899 124 900 124 900 125 899 125 899 125 899 125 899 126 898 127 897 128 897 128 896 129 895 130 894 132 892 133 891 134 890 136 888 137...  "
      ]
     },
     "execution_count": 5,
     "metadata": {},
     "output_type": "execute_result"
    }
   ],
   "source": [
    "train_meta.head(2)"
   ]
  },
  {
   "cell_type": "code",
   "execution_count": 6,
   "id": "blond-loading",
   "metadata": {},
   "outputs": [],
   "source": [
    "train_path = (data_path/'dicom-images-train/')\n",
    "train_files = list(train_path.glob('*/*/*.dcm'))"
   ]
  },
  {
   "cell_type": "code",
   "execution_count": 7,
   "id": "affiliated-berkeley",
   "metadata": {},
   "outputs": [],
   "source": [
    "img_path = (data_path/'train/images')\n",
    "mask_path = (data_path/'train/mask')\n",
    "\n",
    "img_path.mkdir(parents=True, exist_ok=True)\n",
    "mask_path.mkdir(parents=True, exist_ok=True)"
   ]
  },
  {
   "cell_type": "code",
   "execution_count": 8,
   "id": "aerial-manual",
   "metadata": {},
   "outputs": [],
   "source": [
    "def save_dcm_png(file,dst_path):\n",
    "    \"\"\"Extracts image from DCM file and saves it as a PNG file.\"\"\"\n",
    "    fname = file.stem\n",
    "    pyds = pydicom.dcmread(file)\n",
    "    img = Image.fromarray(pyds.pixel_array)\n",
    "    img.save(f'{dst_path}/{fname}.png')\n",
    "    "
   ]
  },
  {
   "cell_type": "code",
   "execution_count": 62,
   "id": "coordinated-showcase",
   "metadata": {},
   "outputs": [],
   "source": [
    "save_dcm_png(train_files[1],data_path/'train/images/')"
   ]
  },
  {
   "cell_type": "code",
   "execution_count": 9,
   "id": "pharmaceutical-framework",
   "metadata": {},
   "outputs": [],
   "source": [
    "def save_rle_mask(df,fname,dst_path):\n",
    "    \"\"\"Converts mask from rle format to PIL Image format\"\"\"\n",
    "    mask = np.zeros((1024,1024))\n",
    "    rles = df[df['ImageId']==fname]['EncodedPixels']\n",
    "    for rle in rles:\n",
    "        if rle != -1:\n",
    "            mask += run_length_decode(rle).T\n",
    "    mask = mask.clip(0,1).astype(np.uint8) * 255\n",
    "    mask = Image.fromarray(mask)\n",
    "    mask.save(f'{data_path}/{fname}.png')\n",
    "    \n",
    "    "
   ]
  },
  {
   "cell_type": "markdown",
   "id": "essential-burlington",
   "metadata": {},
   "source": [
    "Sequential approach which could take close to 1 hour."
   ]
  },
  {
   "cell_type": "markdown",
   "id": "designing-castle",
   "metadata": {},
   "source": [
    "\n",
    "```\n",
    "for file in progress_bar(train_files):\n",
    "    save_dcm_png(file,data_path/'train/images/')\n",
    "    save_rle_mask(train_meta,file.stem,data_path/'train/mask/')\n",
    "    \n",
    "```"
   ]
  },
  {
   "cell_type": "code",
   "execution_count": 15,
   "id": "accompanied-preliminary",
   "metadata": {},
   "outputs": [],
   "source": [
    "def setup(file):\n",
    "    save_dcm_png(file,data_path/'train/images/')\n",
    "    save_rle_mask(train_meta,file.stem,data_path/'train/mask/')"
   ]
  },
  {
   "cell_type": "code",
   "execution_count": 17,
   "id": "critical-convertible",
   "metadata": {},
   "outputs": [],
   "source": [
    "from fastcore.parallel import parallel"
   ]
  },
  {
   "cell_type": "code",
   "execution_count": 21,
   "id": "acting-aircraft",
   "metadata": {},
   "outputs": [
    {
     "data": {
      "text/html": [],
      "text/plain": [
       "<IPython.core.display.HTML object>"
      ]
     },
     "metadata": {},
     "output_type": "display_data"
    },
    {
     "data": {
      "text/plain": [
       "(#12089) [None,None,None,None,None,None,None,None,None,None...]"
      ]
     },
     "execution_count": 21,
     "metadata": {},
     "output_type": "execute_result"
    }
   ],
   "source": [
    "#Lets make it faster by using all the cores.\n",
    "\n",
    "parallel(setup, train_files, n_workers=7, progress=True)"
   ]
  },
  {
   "cell_type": "code",
   "execution_count": 22,
   "id": "arranged-distribution",
   "metadata": {},
   "outputs": [
    {
     "data": {
      "text/plain": [
       "12089"
      ]
     },
     "execution_count": 22,
     "metadata": {},
     "output_type": "execute_result"
    }
   ],
   "source": [
    "len(train_files)"
   ]
  },
  {
   "cell_type": "code",
   "execution_count": null,
   "id": "whole-legend",
   "metadata": {},
   "outputs": [],
   "source": []
  }
 ],
 "metadata": {
  "kernelspec": {
   "display_name": "Python 3",
   "language": "python",
   "name": "python3"
  },
  "language_info": {
   "codemirror_mode": {
    "name": "ipython",
    "version": 3
   },
   "file_extension": ".py",
   "mimetype": "text/x-python",
   "name": "python",
   "nbconvert_exporter": "python",
   "pygments_lexer": "ipython3",
   "version": "3.6.10"
  }
 },
 "nbformat": 4,
 "nbformat_minor": 5
}
