{
 "cells": [
  {
   "cell_type": "markdown",
   "id": "lesser-cannon",
   "metadata": {},
   "source": [
    "## Getting Started\n",
    "\n",
    "- Kaggle Competition - [siim-acr-pneumothorax-segmentation](https://www.kaggle.com/c/siim-acr-pneumothorax-segmentation/overview)\n",
    "- Download Data \n",
    "- Create a Pytorch Dataset and Dataloader.\n"
   ]
  },
  {
   "cell_type": "markdown",
   "id": "static-enzyme",
   "metadata": {},
   "source": [
    "### Prepare data\n",
    "\n",
    "1. Download Data\n",
    "2. Extract Data\n"
   ]
  },
  {
   "cell_type": "code",
   "execution_count": 1,
   "id": "gothic-panama",
   "metadata": {},
   "outputs": [
    {
     "name": "stdout",
     "output_type": "stream",
     "text": [
      "Downloading siim-train-test.zip to /home/siim-acr\n",
      "100%|██████████████████████████████████████| 1.92G/1.92G [02:15<00:00, 24.3MB/s]\n",
      "100%|██████████████████████████████████████| 1.92G/1.92G [02:15<00:00, 15.2MB/s]\n"
     ]
    }
   ],
   "source": [
    "!kaggle datasets download -d seesee/siim-train-test"
   ]
  },
  {
   "cell_type": "code",
   "execution_count": 2,
   "id": "connected-species",
   "metadata": {},
   "outputs": [],
   "source": [
    "!unzip -q siim-train-test.zip"
   ]
  },
  {
   "cell_type": "code",
   "execution_count": 3,
   "id": "undefined-advance",
   "metadata": {},
   "outputs": [
    {
     "name": "stdout",
     "output_type": "stream",
     "text": [
      "\u001b[0m\u001b[01;34mdicom-images-test\u001b[0m/  \u001b[01;34mdicom-images-train\u001b[0m/  train-rle.csv\n"
     ]
    }
   ],
   "source": [
    "ls siim/"
   ]
  },
  {
   "cell_type": "code",
   "execution_count": 11,
   "id": "lovely-massachusetts",
   "metadata": {},
   "outputs": [],
   "source": [
    "from fastai.vision.all import *\n",
    "import pydicom"
   ]
  },
  {
   "cell_type": "code",
   "execution_count": 4,
   "id": "sophisticated-table",
   "metadata": {},
   "outputs": [],
   "source": [
    "data_path = Path('siim/')"
   ]
  },
  {
   "cell_type": "code",
   "execution_count": 5,
   "id": "abstract-chuck",
   "metadata": {},
   "outputs": [
    {
     "data": {
      "text/plain": [
       "(#3) [Path('siim/dicom-images-test'),Path('siim/dicom-images-train'),Path('siim/train-rle.csv')]"
      ]
     },
     "execution_count": 5,
     "metadata": {},
     "output_type": "execute_result"
    }
   ],
   "source": [
    "data_path.ls()"
   ]
  },
  {
   "cell_type": "code",
   "execution_count": 79,
   "id": "light-gasoline",
   "metadata": {},
   "outputs": [],
   "source": [
    "train_meta = pd.read_csv(data_path/'train-rle.csv')\n",
    "train_meta.columns = [o.strip() for o in train_meta.columns]"
   ]
  },
  {
   "cell_type": "code",
   "execution_count": 80,
   "id": "defined-natural",
   "metadata": {},
   "outputs": [
    {
     "data": {
      "text/html": [
       "<div>\n",
       "<style scoped>\n",
       "    .dataframe tbody tr th:only-of-type {\n",
       "        vertical-align: middle;\n",
       "    }\n",
       "\n",
       "    .dataframe tbody tr th {\n",
       "        vertical-align: top;\n",
       "    }\n",
       "\n",
       "    .dataframe thead th {\n",
       "        text-align: right;\n",
       "    }\n",
       "</style>\n",
       "<table border=\"1\" class=\"dataframe\">\n",
       "  <thead>\n",
       "    <tr style=\"text-align: right;\">\n",
       "      <th></th>\n",
       "      <th>ImageId</th>\n",
       "      <th>EncodedPixels</th>\n",
       "    </tr>\n",
       "  </thead>\n",
       "  <tbody>\n",
       "    <tr>\n",
       "      <th>0</th>\n",
       "      <td>1.2.276.0.7230010.3.1.4.8323329.6904.1517875201.850819</td>\n",
       "      <td>-1</td>\n",
       "    </tr>\n",
       "    <tr>\n",
       "      <th>1</th>\n",
       "      <td>1.2.276.0.7230010.3.1.4.8323329.13666.1517875247.117800</td>\n",
       "      <td>557374 2 1015 8 1009 14 1002 20 997 26 990 32 985 38 980 42 981 42 979 43 978 45 976 47 964 59 956 66 925 98 922 101 917 106 916 106 916 107 914 109 909 113 907 116 904 118 903 120 902 120 902 121 900 122 899 124 898 124 898 125 897 125 898 125 896 126 895 127 895 128 895 128 895 128 894 128 895 128 895 128 895 128 895 128 895 128 894 130 893 130 893 130 893 130 893 129 894 129 894 129 894 129 895 127 897 126 898 126 898 125 898 126 898 125 899 125 899 125 899 124 900 124 900 125 899 125 899 125 899 125 899 126 898 127 897 128 897 128 896 129 895 130 894 132 892 133 891 134 890 136 888 137...</td>\n",
       "    </tr>\n",
       "  </tbody>\n",
       "</table>\n",
       "</div>"
      ],
      "text/plain": [
       "                                                   ImageId  \\\n",
       "0   1.2.276.0.7230010.3.1.4.8323329.6904.1517875201.850819   \n",
       "1  1.2.276.0.7230010.3.1.4.8323329.13666.1517875247.117800   \n",
       "\n",
       "                                                                                                                                                                                                                                                                                                                                                                                                                                                                                                                                                                                                             EncodedPixels  \n",
       "0                                                                                                                                                                                                                                                                                                                                                                                                                                                                                                                                                                                                                       -1  \n",
       "1  557374 2 1015 8 1009 14 1002 20 997 26 990 32 985 38 980 42 981 42 979 43 978 45 976 47 964 59 956 66 925 98 922 101 917 106 916 106 916 107 914 109 909 113 907 116 904 118 903 120 902 120 902 121 900 122 899 124 898 124 898 125 897 125 898 125 896 126 895 127 895 128 895 128 895 128 894 128 895 128 895 128 895 128 895 128 895 128 894 130 893 130 893 130 893 130 893 129 894 129 894 129 894 129 895 127 897 126 898 126 898 125 898 126 898 125 899 125 899 125 899 124 900 124 900 125 899 125 899 125 899 125 899 126 898 127 897 128 897 128 896 129 895 130 894 132 892 133 891 134 890 136 888 137...  "
      ]
     },
     "execution_count": 80,
     "metadata": {},
     "output_type": "execute_result"
    }
   ],
   "source": [
    "train_meta.head(2)"
   ]
  },
  {
   "cell_type": "code",
   "execution_count": 28,
   "id": "mexican-anime",
   "metadata": {},
   "outputs": [],
   "source": [
    "train_path = (data_path/'dicom-images-train/')\n",
    "train_files = list(train_path.glob('*/*/*.dcm'))"
   ]
  },
  {
   "cell_type": "code",
   "execution_count": 29,
   "id": "funded-gibson",
   "metadata": {},
   "outputs": [
    {
     "data": {
      "text/plain": [
       "Path('siim/dicom-images-train/1.2.276.0.7230010.3.1.2.8323329.1000.1517875165.878026/1.2.276.0.7230010.3.1.3.8323329.1000.1517875165.878025/1.2.276.0.7230010.3.1.4.8323329.1000.1517875165.878027.dcm')"
      ]
     },
     "execution_count": 29,
     "metadata": {},
     "output_type": "execute_result"
    }
   ],
   "source": [
    "train_files[0]"
   ]
  },
  {
   "cell_type": "code",
   "execution_count": 32,
   "id": "looking-compromise",
   "metadata": {},
   "outputs": [],
   "source": [
    "o = pydicom.dcmread(train_files[0])"
   ]
  },
  {
   "cell_type": "code",
   "execution_count": 31,
   "id": "comfortable-baseline",
   "metadata": {},
   "outputs": [
    {
     "data": {
      "text/plain": [
       "<module 'PIL.Image' from '/opt/conda/lib/python3.6/site-packages/PIL/Image.py'>"
      ]
     },
     "execution_count": 31,
     "metadata": {},
     "output_type": "execute_result"
    }
   ],
   "source": [
    "Image"
   ]
  },
  {
   "cell_type": "code",
   "execution_count": 38,
   "id": "automotive-wheat",
   "metadata": {},
   "outputs": [],
   "source": [
    "img = Image.fromarray(o.pixel_array)"
   ]
  },
  {
   "cell_type": "code",
   "execution_count": 50,
   "id": "impossible-senegal",
   "metadata": {},
   "outputs": [],
   "source": [
    "img_path = (data_path/'train/images')\n",
    "mask_path = (data_path/'train/mask')\n",
    "\n",
    "img_path.mkdir(parents=True, exist_ok=True)\n",
    "mask_path.mkdir(parents=True, exist_ok=True)"
   ]
  },
  {
   "cell_type": "code",
   "execution_count": 52,
   "id": "smooth-edition",
   "metadata": {},
   "outputs": [
    {
     "name": "stdout",
     "output_type": "stream",
     "text": [
      "1.2.276.0.7230010.3.1.4.8323329.1000.1517875165.878027.png\n"
     ]
    }
   ],
   "source": [
    "ls siim/train/images/"
   ]
  },
  {
   "cell_type": "code",
   "execution_count": 46,
   "id": "living-patent",
   "metadata": {},
   "outputs": [],
   "source": [
    "id = train_files[0].stem"
   ]
  },
  {
   "cell_type": "code",
   "execution_count": 48,
   "id": "young-musical",
   "metadata": {},
   "outputs": [],
   "source": [
    "img.save(f'{data_path}/train/images/{id}.png')"
   ]
  },
  {
   "cell_type": "code",
   "execution_count": 53,
   "id": "worthy-upgrade",
   "metadata": {},
   "outputs": [
    {
     "ename": "SyntaxError",
     "evalue": "invalid syntax (<ipython-input-53-51cf80055bfa>, line 1)",
     "output_type": "error",
     "traceback": [
      "\u001b[0;36m  File \u001b[0;32m\"<ipython-input-53-51cf80055bfa>\"\u001b[0;36m, line \u001b[0;32m1\u001b[0m\n\u001b[0;31m    mask =\u001b[0m\n\u001b[0m           ^\u001b[0m\n\u001b[0;31mSyntaxError\u001b[0m\u001b[0;31m:\u001b[0m invalid syntax\n"
     ]
    }
   ],
   "source": [
    "mask = "
   ]
  },
  {
   "cell_type": "code",
   "execution_count": 61,
   "id": "changed-classroom",
   "metadata": {},
   "outputs": [],
   "source": [
    "def save_dcm_to_png(file,dst_path):\n",
    "    \"\"\"Extracts image from DCM file and saves it as a PNG file.\"\"\"\n",
    "    fname = file.stem\n",
    "    pyds = pydicom.dcmread(file)\n",
    "    img = Image.fromarray(pyds.pixel_array)\n",
    "    img.save(f'{dst_path}/{fname}.png')\n",
    "    "
   ]
  },
  {
   "cell_type": "code",
   "execution_count": 62,
   "id": "sustainable-discount",
   "metadata": {},
   "outputs": [],
   "source": [
    "save_dcm_to_png(train_files[1],data_path/'train/images/')"
   ]
  },
  {
   "cell_type": "code",
   "execution_count": 102,
   "id": "serial-easter",
   "metadata": {},
   "outputs": [
    {
     "name": "stdout",
     "output_type": "stream",
     "text": [
      "6\n"
     ]
    }
   ],
   "source": [
    "for i in range(100):\n",
    "    fname = train_files[i].stem \n",
    "    if train_meta[train_meta['ImageId']==fname]['EncodedPixels'].values[0] != '-1':\n",
    "        print(i)\n",
    "        break"
   ]
  },
  {
   "cell_type": "code",
   "execution_count": 104,
   "id": "local-missile",
   "metadata": {},
   "outputs": [
    {
     "data": {
      "text/plain": [
       "4919    209126 1 1019 6 1015 10 1012 13 1010 14 1008 16 1007 16 1006 18 1004 20 1003 20 1002 22 1001 22 1001 23 999 24 999 24 999 25 997 26 997 27 996 27 996 27 996 28 995 28 995 28 995 29 994 29 994 30 993 30 993 30 993 31 992 31 992 31 992 32 991 32 992 32 991 33 990 33 990 33 991 33 990 33 990 33 990 34 990 33 990 34 989 35 988 35 989 35 988 35 989 35 988 35 989 34 989 35 989 34 989 34 989 35 989 34 989 35 988 36 988 35 988 35 989 35 989 34 989 34 990 34 989 34 990 34 989 34 990 34 989 34 990 34 990 34 989 34 990 33 990 34 990 33 991 32 991 33 991 32 992 32 991 33 991 32 992 32 991 32 992 32 99...\n",
       "Name: EncodedPixels, dtype: object"
      ]
     },
     "execution_count": 104,
     "metadata": {},
     "output_type": "execute_result"
    }
   ],
   "source": [
    "fname = train_files[6].stem\n",
    "train_meta[train_meta['ImageId']==fname]['EncodedPixels']"
   ]
  },
  {
   "cell_type": "code",
   "execution_count": 94,
   "id": "unlike-backing",
   "metadata": {},
   "outputs": [],
   "source": [
    "fname = train_files[3].stem"
   ]
  },
  {
   "cell_type": "code",
   "execution_count": 95,
   "id": "plain-beads",
   "metadata": {},
   "outputs": [
    {
     "data": {
      "text/plain": [
       "'1.2.276.0.7230010.3.1.4.8323329.10002.1517875220.939397'"
      ]
     },
     "execution_count": 95,
     "metadata": {},
     "output_type": "execute_result"
    }
   ],
   "source": [
    "fname"
   ]
  },
  {
   "cell_type": "code",
   "execution_count": 96,
   "id": "emerging-reader",
   "metadata": {},
   "outputs": [
    {
     "data": {
      "text/plain": [
       "Index(['ImageId', 'EncodedPixels'], dtype='object')"
      ]
     },
     "execution_count": 96,
     "metadata": {},
     "output_type": "execute_result"
    }
   ],
   "source": [
    "train_meta.columns"
   ]
  },
  {
   "cell_type": "code",
   "execution_count": 99,
   "id": "intensive-constant",
   "metadata": {},
   "outputs": [
    {
     "data": {
      "text/plain": [
       "'-1'"
      ]
     },
     "execution_count": 99,
     "metadata": {},
     "output_type": "execute_result"
    }
   ],
   "source": [
    "train_meta[train_meta['ImageId']==fname]['EncodedPixels'].values[0]"
   ]
  },
  {
   "cell_type": "code",
   "execution_count": null,
   "id": "serial-juvenile",
   "metadata": {},
   "outputs": [],
   "source": []
  },
  {
   "cell_type": "code",
   "execution_count": null,
   "id": "directed-question",
   "metadata": {},
   "outputs": [],
   "source": []
  }
 ],
 "metadata": {
  "kernelspec": {
   "display_name": "Python 3",
   "language": "python",
   "name": "python3"
  },
  "language_info": {
   "codemirror_mode": {
    "name": "ipython",
    "version": 3
   },
   "file_extension": ".py",
   "mimetype": "text/x-python",
   "name": "python",
   "nbconvert_exporter": "python",
   "pygments_lexer": "ipython3",
   "version": "3.6.10"
  }
 },
 "nbformat": 4,
 "nbformat_minor": 5
}
