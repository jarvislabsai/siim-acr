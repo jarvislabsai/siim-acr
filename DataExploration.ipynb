{
 "cells": [
  {
   "cell_type": "markdown",
   "id": "1a57c830-0f15-45fa-afe4-922eeaa2bc9e",
   "metadata": {},
   "source": [
    "## Getting Started\n",
    "\n",
    "- Kaggle Competition - [siim-acr-pneumothorax-segmentation](https://www.kaggle.com/c/siim-acr-pneumothorax-segmentation/overview)\n",
    "- Download Data \n",
    "- Create a Pytorch Dataset and Dataloader.\n"
   ]
  },
  {
   "cell_type": "markdown",
   "id": "representative-monday",
   "metadata": {},
   "source": [
    "### Prepare data\n",
    "\n",
    "- Install Kaggle API\n",
    "- Download Data\n",
    "- Extract Data\n"
   ]
  },
  {
   "cell_type": "code",
   "execution_count": 1,
   "id": "992ad302-b297-4af7-b750-7c7d79f06d71",
   "metadata": {
    "collapsed": true,
    "jupyter": {
     "outputs_hidden": true
    },
    "tags": []
   },
   "outputs": [
    {
     "name": "stdout",
     "output_type": "stream",
     "text": [
      "Collecting kaggle\n",
      "  Downloading kaggle-1.5.12.tar.gz (58 kB)\n",
      "\u001b[K     |████████████████████████████████| 58 kB 4.2 MB/s eta 0:00:011\n",
      "\u001b[?25hRequirement already satisfied: six>=1.10 in /opt/conda/lib/python3.8/site-packages (from kaggle) (1.15.0)\n",
      "Requirement already satisfied: certifi in /opt/conda/lib/python3.8/site-packages (from kaggle) (2020.12.5)\n",
      "Requirement already satisfied: python-dateutil in /opt/conda/lib/python3.8/site-packages (from kaggle) (2.8.1)\n",
      "Requirement already satisfied: requests in /opt/conda/lib/python3.8/site-packages (from kaggle) (2.24.0)\n",
      "Requirement already satisfied: tqdm in /opt/conda/lib/python3.8/site-packages (from kaggle) (4.53.0)\n",
      "Requirement already satisfied: python-slugify in /opt/conda/lib/python3.8/site-packages (from kaggle) (4.0.1)\n",
      "Requirement already satisfied: urllib3 in /opt/conda/lib/python3.8/site-packages (from kaggle) (1.25.11)\n",
      "Requirement already satisfied: idna<3,>=2.5 in /opt/conda/lib/python3.8/site-packages (from requests->kaggle) (2.10)\n",
      "Requirement already satisfied: chardet<4,>=3.0.2 in /opt/conda/lib/python3.8/site-packages (from requests->kaggle) (3.0.4)\n",
      "Requirement already satisfied: text-unidecode>=1.3 in /opt/conda/lib/python3.8/site-packages (from python-slugify->kaggle) (1.3)\n",
      "Building wheels for collected packages: kaggle\n",
      "  Building wheel for kaggle (setup.py) ... \u001b[?25ldone\n",
      "\u001b[?25h  Created wheel for kaggle: filename=kaggle-1.5.12-py3-none-any.whl size=73053 sha256=92172e61204b8cb99eb35a5c4c74656a691477d36fe087336f8e7b2d7cba0e7e\n",
      "  Stored in directory: /home/.cache/pip/wheels/29/da/11/144cc25aebdaeb4931b231e25fd34b394e6a5725cbb2f50106\n",
      "Successfully built kaggle\n",
      "Installing collected packages: kaggle\n",
      "Successfully installed kaggle-1.5.12\n"
     ]
    }
   ],
   "source": [
    "!pip install kaggle"
   ]
  },
  {
   "cell_type": "markdown",
   "id": "5c04e281-28d6-4c4c-9aef-ea14e8ee1c1b",
   "metadata": {},
   "source": [
    "Add kaggle.json file under ~/.kaggle/"
   ]
  },
  {
   "cell_type": "code",
   "execution_count": 1,
   "id": "3e1c77f7-bd88-41c3-8c91-136b6301045c",
   "metadata": {},
   "outputs": [
    {
     "name": "stdout",
     "output_type": "stream",
     "text": [
      "Downloading siim-acr-pneumothorax-segmentation-data.zip to /home/siim-acr\n",
      "100%|█████████████████████████████████████▉| 3.03G/3.03G [00:55<00:00, 83.0MB/s]\n",
      "100%|██████████████████████████████████████| 3.03G/3.03G [00:55<00:00, 58.8MB/s]\n"
     ]
    }
   ],
   "source": [
    "!kaggle datasets download -d jesperdramsch/siim-acr-pneumothorax-segmentation-data"
   ]
  },
  {
   "cell_type": "markdown",
   "id": "5a964f5c-be54-484b-a2f6-d7ce46f32172",
   "metadata": {},
   "source": [
    "Lets extract the data to a folder called data"
   ]
  },
  {
   "cell_type": "code",
   "execution_count": 3,
   "id": "c08b308b-ec53-4d96-b890-3b0bf8e6dbf7",
   "metadata": {
    "tags": []
   },
   "outputs": [],
   "source": [
    "!unzip -q siim-acr-pneumothorax-segmentation-data.zip -d data/"
   ]
  },
  {
   "cell_type": "code",
   "execution_count": 6,
   "id": "written-schema",
   "metadata": {},
   "outputs": [
    {
     "name": "stdout",
     "output_type": "stream",
     "text": [
      "\u001b[0m\u001b[01;34mdicom-images-test\u001b[0m/  \u001b[01;34mdicom-images-train\u001b[0m/  \u001b[01;34mpneumothorax\u001b[0m/  train-rle.csv\n"
     ]
    }
   ],
   "source": [
    "ls data/"
   ]
  },
  {
   "cell_type": "code",
   "execution_count": 11,
   "id": "described-stream",
   "metadata": {},
   "outputs": [],
   "source": [
    "from fastai.vision.all import *\n",
    "from mask_functions import run_length_decode\n",
    "import pydicom"
   ]
  },
  {
   "cell_type": "code",
   "execution_count": 12,
   "id": "sustainable-substance",
   "metadata": {},
   "outputs": [],
   "source": [
    "data_path = Path('data/')"
   ]
  },
  {
   "cell_type": "code",
   "execution_count": 13,
   "id": "dramatic-attachment",
   "metadata": {},
   "outputs": [
    {
     "data": {
      "text/plain": [
       "(#4) [Path('data/dicom-images-test'),Path('data/dicom-images-train'),Path('data/pneumothorax'),Path('data/train-rle.csv')]"
      ]
     },
     "execution_count": 13,
     "metadata": {},
     "output_type": "execute_result"
    }
   ],
   "source": [
    "data_path.ls()"
   ]
  },
  {
   "cell_type": "code",
   "execution_count": 14,
   "id": "coordinated-sessions",
   "metadata": {},
   "outputs": [],
   "source": [
    "train_meta = pd.read_csv(data_path/'train-rle.csv')\n",
    "#Column names contains blank spaces. Lets remove them\n",
    "train_meta.columns = [o.strip() for o in train_meta.columns]"
   ]
  },
  {
   "cell_type": "markdown",
   "id": "c32bc93a-b6d9-416c-85b8-6972e92cfe6a",
   "metadata": {},
   "source": [
    "## Data format\n",
    "\n",
    "The data is comprised of images in DICOM(dcm) format and annotations in the form of image IDs and run-length-encoded (RLE) masks. Some of the images contain instances of pneumothorax (collapsed lung), which are indicated by encoded binary masks in the annotations. Some training images have multiple annotations.\n",
    "\n",
    "### Encoded binary mask \n",
    "\n",
    "```1.2.276.0.7230010.3.1.4.8323329.14508.1517875252.443873,387620 23 996 33 986 43 977 51 968 58 962 65 956 70 952 74 949 76 946 79```\n",
    "\n",
    "### No pneumothorax\n",
    "\n",
    "Images without pneumothorax have a mask value of -1.\n",
    "\n",
    "```1.2.276.0.7230010.3.1.4.8323329.1034.1517875166.8504,-1```\n",
    "\n"
   ]
  },
  {
   "cell_type": "code",
   "execution_count": 15,
   "id": "simplified-cable",
   "metadata": {},
   "outputs": [
    {
     "data": {
      "text/html": [
       "<div>\n",
       "<style scoped>\n",
       "    .dataframe tbody tr th:only-of-type {\n",
       "        vertical-align: middle;\n",
       "    }\n",
       "\n",
       "    .dataframe tbody tr th {\n",
       "        vertical-align: top;\n",
       "    }\n",
       "\n",
       "    .dataframe thead th {\n",
       "        text-align: right;\n",
       "    }\n",
       "</style>\n",
       "<table border=\"1\" class=\"dataframe\">\n",
       "  <thead>\n",
       "    <tr style=\"text-align: right;\">\n",
       "      <th></th>\n",
       "      <th>ImageId</th>\n",
       "      <th>EncodedPixels</th>\n",
       "    </tr>\n",
       "  </thead>\n",
       "  <tbody>\n",
       "    <tr>\n",
       "      <th>0</th>\n",
       "      <td>1.2.276.0.7230010.3.1.4.8323329.5597.1517875188.959090</td>\n",
       "      <td>-1</td>\n",
       "    </tr>\n",
       "    <tr>\n",
       "      <th>1</th>\n",
       "      <td>1.2.276.0.7230010.3.1.4.8323329.12515.1517875239.501137</td>\n",
       "      <td>-1</td>\n",
       "    </tr>\n",
       "  </tbody>\n",
       "</table>\n",
       "</div>"
      ],
      "text/plain": [
       "                                                   ImageId EncodedPixels\n",
       "0   1.2.276.0.7230010.3.1.4.8323329.5597.1517875188.959090            -1\n",
       "1  1.2.276.0.7230010.3.1.4.8323329.12515.1517875239.501137            -1"
      ]
     },
     "execution_count": 15,
     "metadata": {},
     "output_type": "execute_result"
    }
   ],
   "source": [
    "train_meta.head(2)"
   ]
  },
  {
   "cell_type": "markdown",
   "id": "f22de883-83dc-4afd-a3d7-8fecb197a672",
   "metadata": {},
   "source": [
    "Some images may have more than 1 rle/mask"
   ]
  },
  {
   "cell_type": "code",
   "execution_count": 16,
   "id": "ce12287c-4b47-47dc-b75f-a72dabe71be0",
   "metadata": {},
   "outputs": [
    {
     "data": {
      "text/plain": [
       "1.2.276.0.7230010.3.1.4.8323329.1851.1517875169.919023     10\n",
       "1.2.276.0.7230010.3.1.4.8323329.5073.1517875186.287848      8\n",
       "1.2.276.0.7230010.3.1.4.8323329.13026.1517875243.170116     8\n",
       "1.2.276.0.7230010.3.1.4.8323329.497.1517875163.185132       7\n",
       "Name: ImageId, dtype: int64"
      ]
     },
     "execution_count": 16,
     "metadata": {},
     "output_type": "execute_result"
    }
   ],
   "source": [
    "train_meta.ImageId.value_counts()[:4]"
   ]
  },
  {
   "cell_type": "code",
   "execution_count": 17,
   "id": "217bf23a-66a5-47f2-9a67-7d3b781d4521",
   "metadata": {},
   "outputs": [],
   "source": [
    "train_path = (data_path/'dicom-images-train/')"
   ]
  },
  {
   "cell_type": "markdown",
   "id": "3e4b3009-b345-49e5-a24b-1e112dc63c48",
   "metadata": {},
   "source": [
    "All the images are in a structure like\n",
    "\n",
    "```\n",
    "someid/someid/image_id.dcm\n",
    "dicom-images-train/1.2.27**/1.2.276.0.**/1.2.276.0.7230010.3.1.4**.dcm\n",
    "\n",
    "```"
   ]
  },
  {
   "cell_type": "code",
   "execution_count": 24,
   "id": "c6ac9fd4-67cd-4054-868d-3c7df95b65d8",
   "metadata": {},
   "outputs": [],
   "source": [
    "train_files = list(train_path.glob('*/*/*.dcm'))"
   ]
  },
  {
   "cell_type": "markdown",
   "id": "656e9c99-78b9-4bd1-87b3-b42ca75ec000",
   "metadata": {},
   "source": [
    "Total train images"
   ]
  },
  {
   "cell_type": "code",
   "execution_count": 25,
   "id": "5bd6c283-5598-4202-8631-4da9f552b738",
   "metadata": {},
   "outputs": [
    {
     "data": {
      "text/plain": [
       "10712"
      ]
     },
     "execution_count": 25,
     "metadata": {},
     "output_type": "execute_result"
    }
   ],
   "source": [
    "len(train_files)"
   ]
  },
  {
   "cell_type": "markdown",
   "id": "eee6c88b-16a2-4305-a36f-ca051df163c2",
   "metadata": {},
   "source": [
    "### Data distribution\n",
    "\n",
    "Pneumothorax - 2379 \\\n",
    "No Pneumothorax - 8296 \n",
    "\n"
   ]
  },
  {
   "cell_type": "code",
   "execution_count": 48,
   "id": "7d4e1836-817a-47aa-9c7a-e2983f72de89",
   "metadata": {},
   "outputs": [
    {
     "data": {
      "text/html": [
       "<div>\n",
       "<style scoped>\n",
       "    .dataframe tbody tr th:only-of-type {\n",
       "        vertical-align: middle;\n",
       "    }\n",
       "\n",
       "    .dataframe tbody tr th {\n",
       "        vertical-align: top;\n",
       "    }\n",
       "\n",
       "    .dataframe thead th {\n",
       "        text-align: right;\n",
       "    }\n",
       "</style>\n",
       "<table border=\"1\" class=\"dataframe\">\n",
       "  <thead>\n",
       "    <tr style=\"text-align: right;\">\n",
       "      <th></th>\n",
       "      <th>index</th>\n",
       "      <th>EncodedPixels</th>\n",
       "    </tr>\n",
       "  </thead>\n",
       "  <tbody>\n",
       "    <tr>\n",
       "      <th>0</th>\n",
       "      <td>True</td>\n",
       "      <td>8296</td>\n",
       "    </tr>\n",
       "    <tr>\n",
       "      <th>1</th>\n",
       "      <td>False</td>\n",
       "      <td>2379</td>\n",
       "    </tr>\n",
       "  </tbody>\n",
       "</table>\n",
       "</div>"
      ],
      "text/plain": [
       "   index  EncodedPixels\n",
       "0   True           8296\n",
       "1  False           2379"
      ]
     },
     "execution_count": 48,
     "metadata": {},
     "output_type": "execute_result"
    }
   ],
   "source": [
    "dist = (train_meta.drop_duplicates(['ImageId'])['EncodedPixels'].str.strip()=='-1').value_counts().reset_index()\n",
    "dist"
   ]
  },
  {
   "cell_type": "code",
   "execution_count": 50,
   "id": "920dc7d9-6e05-4805-aa8c-bead100299c0",
   "metadata": {},
   "outputs": [],
   "source": [
    "annotated_images = dist.EncodedPixels.sum()"
   ]
  },
  {
   "cell_type": "markdown",
   "id": "3948aa9f-df0d-42ce-b8ed-5c3a3959e69e",
   "metadata": {},
   "source": [
    "Looks like we have more images than labels, lets remove the images with no labels."
   ]
  },
  {
   "cell_type": "code",
   "execution_count": 55,
   "id": "d53a5257-dac1-42f1-b271-ba702e9d734b",
   "metadata": {},
   "outputs": [],
   "source": [
    "train_files = [o for o in train_files if o.stem in train_meta.ImageId.values]"
   ]
  },
  {
   "cell_type": "code",
   "execution_count": 56,
   "id": "805f051d-0651-4832-a0ce-2573a49b3ac6",
   "metadata": {},
   "outputs": [],
   "source": [
    "assert len(train_files) == annotated_images"
   ]
  },
  {
   "cell_type": "markdown",
   "id": "8a881102-2303-4adf-9312-ddee42064deb",
   "metadata": {},
   "source": [
    "Lets explore what these dicom files. pydicom a python package allows to work with Dicom files."
   ]
  },
  {
   "cell_type": "code",
   "execution_count": 57,
   "id": "43561ae1-de50-462d-897c-8a808ca4087a",
   "metadata": {},
   "outputs": [],
   "source": [
    "sample = train_files[0]"
   ]
  },
  {
   "cell_type": "code",
   "execution_count": 60,
   "id": "05c658c3-2f43-4589-9c39-da960e910202",
   "metadata": {},
   "outputs": [],
   "source": [
    "dicom_obj = pydicom.dcmread(sample)"
   ]
  },
  {
   "cell_type": "code",
   "execution_count": 62,
   "id": "8d47319c-5fef-4585-b13d-12ba988ffbba",
   "metadata": {},
   "outputs": [
    {
     "data": {
      "text/plain": [
       "array([[ 78,  81,  81, ..., 222, 228, 234],\n",
       "       [ 71,  71,  71, ..., 220, 223, 226],\n",
       "       [ 61,  59,  59, ..., 219, 219, 220],\n",
       "       ...,\n",
       "       [ 17,  17,  17, ..., 208, 209, 208],\n",
       "       [ 17,  18,  18, ..., 208, 209, 209],\n",
       "       [ 18,  19,  19, ..., 209, 210, 210]], dtype=uint8)"
      ]
     },
     "execution_count": 62,
     "metadata": {},
     "output_type": "execute_result"
    }
   ],
   "source": [
    "dicom_obj.pixel_array"
   ]
  },
  {
   "cell_type": "code",
   "execution_count": 64,
   "id": "e1ad5416-9047-4146-9568-a9d2eb805138",
   "metadata": {},
   "outputs": [
    {
     "data": {
      "text/plain": [
       "<matplotlib.image.AxesImage at 0x7f8dcf2eba60>"
      ]
     },
     "execution_count": 64,
     "metadata": {},
     "output_type": "execute_result"
    },
    {
     "data": {
      "image/png": "[encoded data removed]",
      "text/plain": [
       "<Figure size 432x288 with 1 Axes>"
      ]
     },
     "metadata": {
      "needs_background": "light"
     },
     "output_type": "display_data"
    }
   ],
   "source": [
    "plt.imshow(dicom_obj.pixel_array)"
   ]
  },
  {
   "cell_type": "code",
   "execution_count": 7,
   "id": "affiliated-berkeley",
   "metadata": {},
   "outputs": [],
   "source": [
    "img_path = (data_path/'train/images')\n",
    "mask_path = (data_path/'train/mask')\n",
    "\n",
    "img_path.mkdir(parents=True, exist_ok=True)\n",
    "mask_path.mkdir(parents=True, exist_ok=True)"
   ]
  },
  {
   "cell_type": "code",
   "execution_count": 8,
   "id": "aerial-manual",
   "metadata": {},
   "outputs": [],
   "source": [
    "def save_dcm_png(file,dst_path):\n",
    "    \"\"\"Extracts image from DCM file and saves it as a PNG file.\"\"\"\n",
    "    fname = file.stem\n",
    "    pyds = pydicom.dcmread(file)\n",
    "    img = Image.fromarray(pyds.pixel_array)\n",
    "    img.save(f'{dst_path}/{fname}.png')\n",
    "    "
   ]
  },
  {
   "cell_type": "code",
   "execution_count": 62,
   "id": "coordinated-showcase",
   "metadata": {},
   "outputs": [],
   "source": [
    "save_dcm_png(train_files[1],data_path/'train/images/')"
   ]
  },
  {
   "cell_type": "code",
   "execution_count": 9,
   "id": "pharmaceutical-framework",
   "metadata": {},
   "outputs": [],
   "source": [
    "def save_rle_mask(df,fname,dst_path):\n",
    "    \"\"\"Converts mask from rle format to PIL Image format\"\"\"\n",
    "    mask = np.zeros((1024,1024))\n",
    "    rles = df[df['ImageId']==fname]['EncodedPixels']\n",
    "    for rle in rles:\n",
    "        if rle != -1:\n",
    "            mask += run_length_decode(rle).T\n",
    "    mask = mask.clip(0,1).astype(np.uint8) * 255\n",
    "    mask = Image.fromarray(mask)\n",
    "    mask.save(f'{data_path}/{fname}.png')\n",
    "    \n",
    "    "
   ]
  },
  {
   "cell_type": "markdown",
   "id": "essential-burlington",
   "metadata": {},
   "source": [
    "Sequential approach which could take close to 1 hour."
   ]
  },
  {
   "cell_type": "markdown",
   "id": "designing-castle",
   "metadata": {},
   "source": [
    "\n",
    "```\n",
    "for file in progress_bar(train_files):\n",
    "    save_dcm_png(file,data_path/'train/images/')\n",
    "    save_rle_mask(train_meta,file.stem,data_path/'train/mask/')\n",
    "    \n",
    "```"
   ]
  },
  {
   "cell_type": "code",
   "execution_count": 15,
   "id": "accompanied-preliminary",
   "metadata": {},
   "outputs": [],
   "source": [
    "def setup(file):\n",
    "    save_dcm_png(file,data_path/'train/images/')\n",
    "    save_rle_mask(train_meta,file.stem,data_path/'train/mask/')"
   ]
  },
  {
   "cell_type": "code",
   "execution_count": 17,
   "id": "critical-convertible",
   "metadata": {},
   "outputs": [],
   "source": [
    "from fastcore.parallel import parallel"
   ]
  },
  {
   "cell_type": "code",
   "execution_count": 21,
   "id": "acting-aircraft",
   "metadata": {},
   "outputs": [
    {
     "data": {
      "text/html": [],
      "text/plain": [
       "<IPython.core.display.HTML object>"
      ]
     },
     "metadata": {},
     "output_type": "display_data"
    },
    {
     "data": {
      "text/plain": [
       "(#12089) [None,None,None,None,None,None,None,None,None,None...]"
      ]
     },
     "execution_count": 21,
     "metadata": {},
     "output_type": "execute_result"
    }
   ],
   "source": [
    "#Lets make it faster by using all the cores.\n",
    "\n",
    "parallel(setup, train_files, n_workers=7, progress=True)"
   ]
  },
  {
   "cell_type": "code",
   "execution_count": 22,
   "id": "arranged-distribution",
   "metadata": {},
   "outputs": [
    {
     "data": {
      "text/plain": [
       "12089"
      ]
     },
     "execution_count": 22,
     "metadata": {},
     "output_type": "execute_result"
    }
   ],
   "source": [
    "len(train_files)"
   ]
  },
  {
   "cell_type": "code",
   "execution_count": null,
   "id": "whole-legend",
   "metadata": {},
   "outputs": [],
   "source": [
    "kaggle datasets download -d seesee/siim-train-test"
   ]
  }
 ],
 "metadata": {
  "kernelspec": {
   "display_name": "Python 3",
   "language": "python",
   "name": "python3"
  },
  "language_info": {
   "codemirror_mode": {
    "name": "ipython",
    "version": 3
   },
   "file_extension": ".py",
   "mimetype": "text/x-python",
   "name": "python",
   "nbconvert_exporter": "python",
   "pygments_lexer": "ipython3",
   "version": "3.8.5"
  }
 },
 "nbformat": 4,
 "nbformat_minor": 5
}
